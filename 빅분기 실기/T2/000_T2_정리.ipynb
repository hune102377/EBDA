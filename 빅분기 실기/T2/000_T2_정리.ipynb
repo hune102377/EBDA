{
 "cells": [
  {
   "cell_type": "markdown",
   "metadata": {},
   "source": [
    "---\n",
    "\n",
    "**기본적인 순서**\n",
    "\n",
    "(1) 데이터 불러오기\n",
    "\n",
    "(2) EDA\n",
    "\n",
    "(3) 데이터 전처리\n",
    "\n",
    "(4) 모델 생성 및 학습\n",
    "\n",
    "(5) 모델 예측 및 파일 저장\n",
    "\n",
    "---"
   ]
  }
 ],
 "metadata": {
  "kernelspec": {
   "display_name": "Python 3.8.15 ('yolov5face')",
   "language": "python",
   "name": "python3"
  },
  "language_info": {
   "name": "python",
   "version": "3.8.15"
  },
  "orig_nbformat": 4,
  "vscode": {
   "interpreter": {
    "hash": "b36244be393c45ca41ca0bf21aee05cffc51c2d1f9c7238bcf3df478b972ce10"
   }
  }
 },
 "nbformat": 4,
 "nbformat_minor": 2
}
