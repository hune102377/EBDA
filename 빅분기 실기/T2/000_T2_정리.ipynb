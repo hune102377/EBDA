{
 "cells": [
  {
   "cell_type": "markdown",
   "metadata": {},
   "source": [
    "### **dir, help, __all__ 활용**"
   ]
  },
  {
   "cell_type": "markdown",
   "metadata": {},
   "source": [
    "---\n",
    "\n",
    "**기본적인 순서**\n",
    "\n",
    "**(1) 데이터 불러오기**\n",
    "\n",
    "**(2) EDA**  \n",
    "    - head()  \n",
    "    - info() : type 확인 => numeric features/categorical feautres 구분  \n",
    "    - describe() : numeric features  \n",
    "    - value_counts() : categorical feautres  \n",
    "\n",
    "**(3) 데이터 전처리**  \n",
    "    (1) 결측치 처리 : 평균값(numeric) / 최대빈도(categorical)\n",
    "    (2) 피처엔지니어링 :   \n",
    "    sklearn.preprocessing - MinMaxScaler, StandardScaler(numeric) /  \n",
    "    sklearn.preprocessing - LabelEncoder(categorical)\n",
    "\n",
    "**(4) 모델 생성 및 학습, 평가**  \n",
    "    (1) 검증용 데이터 분리 : sklearn.model_selection - train_test_split  \n",
    "    (2 - 1) 랜덤 포레스트 분류 : sklearn.ensemble - RandomForestClassifier(n_estimators, max_depth, random_state)    \n",
    "    (2 - 2) 랜덤 포레스트 회귀 : sklearn.ensemble - RandomForestRegressor(n_estimators, max_depth, random_state)  \n",
    "    (3) 평가 : sklearn.metrics\n",
    "    [rmse(s), r2, accuracy_score, score]  \n",
    "\n",
    "**(5) 모델 예측 및 파일 저장**  \n",
    "    (1) to_csv : (\"000000.csv\", index=False)\n",
    "\n",
    "\n",
    "---"
   ]
  },
  {
   "cell_type": "markdown",
   "metadata": {},
   "source": [
    "2번, 3번, 4번"
   ]
  }
 ],
 "metadata": {
  "kernelspec": {
   "display_name": "Python 3.8.15 ('yolov5face')",
   "language": "python",
   "name": "python3"
  },
  "language_info": {
   "name": "python",
   "version": "3.8.15"
  },
  "orig_nbformat": 4,
  "vscode": {
   "interpreter": {
    "hash": "b36244be393c45ca41ca0bf21aee05cffc51c2d1f9c7238bcf3df478b972ce10"
   }
  }
 },
 "nbformat": 4,
 "nbformat_minor": 2
}
